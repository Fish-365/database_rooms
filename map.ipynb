{
 "cells": [
  {
   "cell_type": "code",
   "execution_count": 321,
   "metadata": {},
   "outputs": [],
   "source": [
    "import requests\n",
    "import cv2\n",
    "import json\n",
    "import numpy as np\n"
   ]
  },
  {
   "cell_type": "code",
   "execution_count": 323,
   "metadata": {},
   "outputs": [],
   "source": [
    "# Импортируем api ключи\n",
    "from api_keys import api_Geosajest, api_Geocoder, api_static"
   ]
  },
  {
   "cell_type": "code",
   "execution_count": 356,
   "metadata": {},
   "outputs": [],
   "source": [
    "text = 'Где%20поесть' \n",
    "types = 'biz'\n",
    "ll = '37.520905,55.756356'#'37.491709,55.869986'\n",
    "spn = '0.02,0.02'\n",
    "distance = 1500\n",
    "\n",
    "\n",
    "#метро - metro\n",
    "#парк - biz\n",
    "#рестораны/каффе - Где%20поесть/Кафе - biz\n",
    "#Гостиницы - biz"
   ]
  },
  {
   "cell_type": "markdown",
   "metadata": {},
   "source": [
    "Запрос к карте для получения её изображения"
   ]
  },
  {
   "cell_type": "code",
   "execution_count": 115,
   "metadata": {},
   "outputs": [],
   "source": [
    "# Создаём функцию запроса для получения карты Яндекс\n",
    "def requests_map(ll,spn,api):\n",
    "    response = requests.get(f'https://static-maps.yandex.ru/v1?ll={ll}&spn={spn}&apikey={api}') #ll = 28.978178,41.011218 / spn = 0.01,0.01 / api = api_static\n",
    "    if response.status_code == 200:\n",
    "        print(\"success\")\n",
    "        return response\n",
    "    else:\n",
    "        print(\"error:\", str(response.status_code))\n",
    "    "
   ]
  },
  {
   "cell_type": "code",
   "execution_count": 116,
   "metadata": {},
   "outputs": [],
   "source": [
    "# Декодируем полученный двоичный код\n",
    "def decoder(image_data):\n",
    "    np_arr = np.frombuffer(image_data, np.uint8)\n",
    "    img = cv2.imdecode(np_arr, cv2.IMREAD_COLOR)\n",
    "    return img\n",
    "\n"
   ]
  },
  {
   "cell_type": "code",
   "execution_count": 357,
   "metadata": {},
   "outputs": [
    {
     "name": "stdout",
     "output_type": "stream",
     "text": [
      "success\n"
     ]
    }
   ],
   "source": [
    "# Делаем запрос и декодируем\n",
    "img = decoder(requests_map(ll=ll, spn=spn, api=api_static).content)\n"
   ]
  },
  {
   "cell_type": "code",
   "execution_count": 359,
   "metadata": {},
   "outputs": [],
   "source": [
    "# Выводим изображение\n",
    "cv2.imshow('Image_map', img)\n",
    "cv2.waitKey(0)\n",
    "cv2.destroyAllWindows()"
   ]
  },
  {
   "cell_type": "markdown",
   "metadata": {},
   "source": [
    "Запрашиваем данные об объектах на карте"
   ]
  },
  {
   "cell_type": "code",
   "execution_count": 336,
   "metadata": {},
   "outputs": [],
   "source": [
    "# Функция для создания запроса данных с карты\n",
    "def requests_data(text,types,ll,spn,api):\n",
    "    response = requests.get(f'https://suggest-maps.yandex.ru/v1/suggest?text={text}%20&types={types}&ll={ll}&spn={spn}&apikey={api}&attrs=uri&print_address=1&ull={ll}&results=10')\n",
    "    if response.status_code == 200:\n",
    "        print(\"success\")\n",
    "        return response\n",
    "    else:\n",
    "        print(\"error:\", str(response.status_code))"
   ]
  },
  {
   "cell_type": "code",
   "execution_count": 278,
   "metadata": {},
   "outputs": [],
   "source": [
    "# Функция для конвертации едениц измерения\n",
    "def distance_convert(distance_str):\n",
    "    if distance_str.find('км') != -1:\n",
    "        distance = float(distance_str[:3]) * 1000\n",
    "    else:\n",
    "        distance = float(distance_str[:-2])\n",
    "    return distance"
   ]
  },
  {
   "cell_type": "code",
   "execution_count": 352,
   "metadata": {},
   "outputs": [
    {
     "name": "stdout",
     "output_type": "stream",
     "text": [
      "success\n"
     ]
    }
   ],
   "source": [
    "data_obj_maps = json.loads(requests_data(text=text, types=types, ll=ll, spn=spn, api=api_Geosajest).content)"
   ]
  },
  {
   "cell_type": "code",
   "execution_count": 353,
   "metadata": {},
   "outputs": [
    {
     "name": "stdout",
     "output_type": "stream",
     "text": [
      "Halal food\n",
      "Кафе-пекарня\n",
      "Тануки\n",
      "Шаурма на районе № 1\n",
      "Четыре комнаты\n",
      "Тбилисоба\n",
      "6\n"
     ]
    }
   ],
   "source": [
    "# Перебираем найденные объекты и выводим их если они расположены не дальше задонного значения\n",
    "\n",
    "num = 0\n",
    "if str(data_obj_maps).find('results') != -1:\n",
    "    for i in range (len(data_obj_maps['results'])):\n",
    "        if distance_convert(data_obj_maps['results'][i]['distance']['text']) <= distance:\n",
    "            num += 1\n",
    "            print(data_obj_maps['results'][i]['title']['text'])\n",
    "    else:\n",
    "        print(num)\n",
    "else:\n",
    "    print(0)\n"
   ]
  },
  {
   "cell_type": "code",
   "execution_count": 354,
   "metadata": {},
   "outputs": [
    {
     "name": "stdout",
     "output_type": "stream",
     "text": [
      "10\n"
     ]
    }
   ],
   "source": [
    "print(len(data_obj_maps['results']))"
   ]
  },
  {
   "cell_type": "code",
   "execution_count": 355,
   "metadata": {},
   "outputs": [
    {
     "name": "stdout",
     "output_type": "stream",
     "text": [
      "Halal food 314.62\n",
      "Кафе-пекарня 314.98\n",
      "Тануки 485.92\n",
      "Шаурма на районе № 1 360.0\n",
      "Четыре комнаты 786.92\n",
      "Тбилисоба 311.37\n",
      "Где Поесть 20000.0\n",
      "Где поесть Трактир у Романыча 333000.0\n",
      "Есть где поесть 159000.0\n",
      "Лофт кафе 24 часа 16000.0\n"
     ]
    }
   ],
   "source": [
    "for i in range (len(data_obj_maps['results'])):           \n",
    "    print(data_obj_maps['results'][i]['title']['text'], distance_convert(data_obj_maps['results'][i]['distance']['text']))"
   ]
  }
 ],
 "metadata": {
  "kernelspec": {
   "display_name": "Python 3",
   "language": "python",
   "name": "python3"
  },
  "language_info": {
   "codemirror_mode": {
    "name": "ipython",
    "version": 3
   },
   "file_extension": ".py",
   "mimetype": "text/x-python",
   "name": "python",
   "nbconvert_exporter": "python",
   "pygments_lexer": "ipython3",
   "version": "3.10.11"
  }
 },
 "nbformat": 4,
 "nbformat_minor": 2
}
