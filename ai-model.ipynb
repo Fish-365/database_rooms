{
 "cells": [
  {
   "cell_type": "code",
   "execution_count": 2,
   "metadata": {},
   "outputs": [],
   "source": [
    "import pandas as pd\n",
    "import statsmodels.api as sm"
   ]
  },
  {
   "cell_type": "code",
   "execution_count": 4,
   "metadata": {},
   "outputs": [],
   "source": [
    "df = pd.read_csv('full-db.csv')"
   ]
  },
  {
   "cell_type": "code",
   "execution_count": 14,
   "metadata": {},
   "outputs": [],
   "source": [
    "X = df[['rooms','square','floor','totalFloors','flat/studio','distanceFromTheCenter','metro','cafe','park','beaches','hospital','police','shop','beautySalone','mall','museum','pharmacy','sportCenter','postOffice','hotel','college','school','kindergarten']]\n",
    "y = df['price']"
   ]
  },
  {
   "cell_type": "code",
   "execution_count": 15,
   "metadata": {},
   "outputs": [],
   "source": [
    "X = sm.add_constant(X)"
   ]
  },
  {
   "cell_type": "code",
   "execution_count": 16,
   "metadata": {},
   "outputs": [],
   "source": [
    "model = sm.OLS(y, X).fit()"
   ]
  },
  {
   "cell_type": "code",
   "execution_count": 17,
   "metadata": {},
   "outputs": [
    {
     "name": "stdout",
     "output_type": "stream",
     "text": [
      "                            OLS Regression Results                            \n",
      "==============================================================================\n",
      "Dep. Variable:                  price   R-squared:                       0.941\n",
      "Model:                            OLS   Adj. R-squared:                  0.896\n",
      "Method:                 Least Squares   F-statistic:                     20.97\n",
      "Date:                Fri, 23 Aug 2024   Prob (F-statistic):           2.24e-12\n",
      "Time:                        22:20:00   Log-Likelihood:                -790.86\n",
      "No. Observations:                  52   AIC:                             1628.\n",
      "Df Residuals:                      29   BIC:                             1673.\n",
      "Df Model:                          22                                         \n",
      "Covariance Type:            nonrobust                                         \n",
      "=========================================================================================\n",
      "                            coef    std err          t      P>|t|      [0.025      0.975]\n",
      "-----------------------------------------------------------------------------------------\n",
      "const                  2.122e+06   5.08e+06      0.418      0.679   -8.26e+06    1.25e+07\n",
      "rooms                 -2.763e+06   4.24e+05     -6.520      0.000   -3.63e+06    -1.9e+06\n",
      "square                 1.496e+05   1.22e+04     12.216      0.000    1.25e+05    1.75e+05\n",
      "floor                  -4.63e+04   7.25e+04     -0.639      0.528   -1.94e+05    1.02e+05\n",
      "totalFloors           -2.699e+04   4.63e+04     -0.583      0.565   -1.22e+05    6.77e+04\n",
      "flat/studio           -1.024e+06   6.78e+05     -1.510      0.142   -2.41e+06    3.63e+05\n",
      "distanceFromTheCenter   -80.2204     55.004     -1.458      0.155    -192.717      32.276\n",
      "metro                  1.353e+05   1.59e+05      0.848      0.403   -1.91e+05    4.61e+05\n",
      "cafe                   2.913e+05   7.79e+05      0.374      0.711    -1.3e+06    1.88e+06\n",
      "park                  -7.477e+05   2.19e+05     -3.419      0.002   -1.19e+06      -3e+05\n",
      "beaches                1.082e+06   6.04e+05      1.791      0.084   -1.53e+05    2.32e+06\n",
      "hospital              -1.191e+04   1.73e+05     -0.069      0.946   -3.66e+05    3.42e+05\n",
      "police                -1.642e+04   1.83e+05     -0.090      0.929    -3.9e+05    3.57e+05\n",
      "shop                   1.377e-09   4.01e-09      0.343      0.734   -6.82e-09    9.58e-09\n",
      "beautySalone          -7.255e+04   1.84e+05     -0.395      0.696   -4.48e+05    3.03e+05\n",
      "mall                  -4.419e+05   2.18e+05     -2.028      0.052   -8.88e+05    3717.113\n",
      "museum                 6.302e+05   1.98e+05      3.178      0.004    2.25e+05    1.04e+06\n",
      "pharmacy               9.724e+04   3.25e+05      0.300      0.767   -5.67e+05    7.61e+05\n",
      "sportCenter           -1.497e+05   2.16e+05     -0.693      0.494   -5.91e+05    2.92e+05\n",
      "postOffice             3.903e+04   2.23e+05      0.175      0.862   -4.17e+05    4.95e+05\n",
      "hotel                  1.431e+05   1.82e+05      0.788      0.437   -2.28e+05    5.14e+05\n",
      "college               -2.992e+05   1.59e+05     -1.876      0.071   -6.25e+05     2.7e+04\n",
      "school                 7.486e+04   2.13e+05      0.351      0.728   -3.62e+05    5.11e+05\n",
      "kindergarten          -1.752e+05   3.46e+05     -0.506      0.616   -8.83e+05    5.33e+05\n",
      "==============================================================================\n",
      "Omnibus:                        2.499   Durbin-Watson:                   2.472\n",
      "Prob(Omnibus):                  0.287   Jarque-Bera (JB):                1.871\n",
      "Skew:                           0.461   Prob(JB):                        0.392\n",
      "Kurtosis:                       3.123   Cond. No.                     9.58e+19\n",
      "==============================================================================\n",
      "\n",
      "Notes:\n",
      "[1] Standard Errors assume that the covariance matrix of the errors is correctly specified.\n",
      "[2] The smallest eigenvalue is 8.35e-31. This might indicate that there are\n",
      "strong multicollinearity problems or that the design matrix is singular.\n"
     ]
    }
   ],
   "source": [
    "print(model.summary())"
   ]
  }
 ],
 "metadata": {
  "kernelspec": {
   "display_name": "Python 3",
   "language": "python",
   "name": "python3"
  },
  "language_info": {
   "codemirror_mode": {
    "name": "ipython",
    "version": 3
   },
   "file_extension": ".py",
   "mimetype": "text/x-python",
   "name": "python",
   "nbconvert_exporter": "python",
   "pygments_lexer": "ipython3",
   "version": "3.10.11"
  }
 },
 "nbformat": 4,
 "nbformat_minor": 2
}
