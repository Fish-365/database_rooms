{
 "cells": [
  {
   "cell_type": "code",
   "execution_count": null,
   "metadata": {},
   "outputs": [],
   "source": [
    "import pandas as pd\n",
    "import csv "
   ]
  },
  {
   "cell_type": "code",
   "execution_count": null,
   "metadata": {},
   "outputs": [],
   "source": [
    "\n",
    "df = open('database.csv')\n"
   ]
  },
  {
   "cell_type": "code",
   "execution_count": null,
   "metadata": {},
   "outputs": [],
   "source": [
    "collum = {'prise', 'rooms', 'square', 'floor', 'totalFloors', 'flat/studio', 'finalFinishing', 'address', 'coordinate', \"distanceFromTheCenter\", 'metro', 'cafe', 'park', 'beaches', 'hospital', 'police', 'shop', 'beautySalone', 'mall', 'museum', 'pharmacy', 'sportCenter', 'postOffice', 'hotel'}"
   ]
  },
  {
   "cell_type": "code",
   "execution_count": null,
   "metadata": {},
   "outputs": [],
   "source": [
    "df(collum)"
   ]
  },
  {
   "cell_type": "code",
   "execution_count": null,
   "metadata": {},
   "outputs": [],
   "source": [
    "print(df)"
   ]
  },
  {
   "cell_type": "code",
   "execution_count": null,
   "metadata": {},
   "outputs": [],
   "source": [
    "priceStr = '19 400 000 ₽'\n",
    "InfoRoom = 'Квартира-студия, 24,8 м², 2/4 эт.'\n",
    "'1-к. квартира, 39,9 м², 17/25 эт.'\n",
    "address = 'ул. Петровка,  28'"
   ]
  },
  {
   "cell_type": "code",
   "execution_count": null,
   "metadata": {},
   "outputs": [],
   "source": [
    "InfoRoom = InfoRoom.split(' ')\n"
   ]
  },
  {
   "cell_type": "markdown",
   "metadata": {},
   "source": [
    "студия это или квартира"
   ]
  },
  {
   "cell_type": "code",
   "execution_count": null,
   "metadata": {},
   "outputs": [],
   "source": [
    "def flat(InfoRoom):\n",
    "    flat = 1\n",
    "    if InfoRoom[0].find('студия') != -1:\n",
    "        flat = 0\n",
    "    return flat \n",
    "\n",
    "# квартира = 1\n",
    "# студия = 0"
   ]
  },
  {
   "cell_type": "markdown",
   "metadata": {},
   "source": [
    "метраж"
   ]
  },
  {
   "cell_type": "code",
   "execution_count": null,
   "metadata": {},
   "outputs": [],
   "source": [
    "print(InfoRoom)"
   ]
  },
  {
   "cell_type": "code",
   "execution_count": null,
   "metadata": {},
   "outputs": [],
   "source": [
    "def square(InfoRoom):\n",
    "    arrSquare = list(InfoRoom[1])\n",
    "    indexSquare = arrSquare.index(',')\n",
    "    arrSquare[indexSquare] = '.'\n",
    "    square = float(''.join(arrSquare))\n",
    "    return square"
   ]
  },
  {
   "cell_type": "markdown",
   "metadata": {},
   "source": [
    "приведение цены к int строки"
   ]
  },
  {
   "cell_type": "code",
   "execution_count": null,
   "metadata": {},
   "outputs": [],
   "source": [
    "def price(priceStr):\n",
    "    price = ''\n",
    "    for i in range(len(priceStr)):\n",
    "        if priceStr[i] != ' ':\n",
    "            price += priceStr[i]\n",
    "        else:\n",
    "            pass \n",
    "    else:\n",
    "        price = int(price[:-1])\n",
    "    return price"
   ]
  },
  {
   "cell_type": "markdown",
   "metadata": {},
   "source": [
    "этаж и сколько всего этажей"
   ]
  },
  {
   "cell_type": "code",
   "execution_count": null,
   "metadata": {},
   "outputs": [],
   "source": [
    "def infoFloor(InfoRoom):\n",
    "    return InfoRoom[3].split('/')\n",
    "    "
   ]
  },
  {
   "cell_type": "code",
   "execution_count": null,
   "metadata": {},
   "outputs": [],
   "source": [
    "print(type('13 750 000 ₽'))"
   ]
  }
 ],
 "metadata": {
  "kernelspec": {
   "display_name": "Python 3",
   "language": "python",
   "name": "python3"
  },
  "language_info": {
   "codemirror_mode": {
    "name": "ipython",
    "version": 3
   },
   "file_extension": ".py",
   "mimetype": "text/x-python",
   "name": "python",
   "nbconvert_exporter": "python",
   "pygments_lexer": "ipython3",
   "version": "3.10.11"
  }
 },
 "nbformat": 4,
 "nbformat_minor": 2
}
